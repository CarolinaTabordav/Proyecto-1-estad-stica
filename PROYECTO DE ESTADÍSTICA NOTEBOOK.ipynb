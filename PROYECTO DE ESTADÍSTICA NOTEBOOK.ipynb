{
 "cells": [
  {
   "cell_type": "code",
   "execution_count": null,
   "id": "fe07bff0",
   "metadata": {},
   "outputs": [],
   "source": [
    "#INTEGRANTES: LUISA MARÍA HERNÁNDEZ QUINTERO, CAROLINA TABORDA VARGAS\n",
    "import pandas as pd\n",
    "import numpy as np\n",
    "\n",
    "# Leer archivo Excel y usar la segunda fila como encabezado\n",
    "df = pd.read_excel(\"FLIR_groups1and2.xlsx\", header=1)\n",
    "\n",
    "# Verificar que es un DataFrame\n",
    "print(type(df))         \n",
    "\n",
    "print(df.head())\n",
    "\n",
    "\n"
   ]
  },
  {
   "cell_type": "code",
   "execution_count": null,
   "id": "16012cd8",
   "metadata": {},
   "outputs": [
    {
     "name": "stdout",
     "output_type": "stream",
     "text": [
      "No se encontró la columna. Columnas disponibles:\n",
      "['Unnamed: 0', 'Unnamed: 1', 'Unnamed: 2', 'T_CRmax', 'T_CLmax', 'T̅_CR', 'T̅_CL', 'Unnamed: 7', 'Unnamed: 8', 'Unnamed: 9', 'Unnamed: 10', 'Unnamed: 11', 'Unnamed: 12', 'Unnamed: 13', 'Unnamed: 14', 'Unnamed: 15', 'Unnamed: 16', 'T_CEmax', 'Unnamed: 18', 'T_FC', 'T_FR', 'T_FL', 'T_FB', 'T_FT', 'T_FEmax', 'T_FCmax', 'T_max', 'Unnamed: 27', 'T_Mmax', 'Unnamed: 29', 'Unnamed: 30', 'T_CRmax.1', 'T_CLmax.1', 'T̅_CR.1', 'T̅_CL.1', 'Unnamed: 35', 'Unnamed: 36', 'Unnamed: 37', 'Unnamed: 38', 'Unnamed: 39', 'Unnamed: 40', 'Unnamed: 41', 'Unnamed: 42', 'Unnamed: 43', 'Unnamed: 44', 'T_CEmax.1', 'Unnamed: 46', 'T_FC.1', 'T_FR.1', 'T_FL.1', 'T_FB.1', 'T_FT.1', 'T_FEmax.1', 'T_FCmax.1', 'T_max.1', 'Unnamed: 55', 'T_Mmax.1', 'Unnamed: 57', 'Unnamed: 58', 'T_CRmax.2', 'T_CLmax.2', 'T̅_CR.2', 'T̅_CL.2', 'Unnamed: 63', 'Unnamed: 64', 'Unnamed: 65', 'Unnamed: 66', 'Unnamed: 67', 'Unnamed: 68', 'Unnamed: 69', 'Unnamed: 70', 'Unnamed: 71', 'Unnamed: 72', 'T_CEmax.2', 'Unnamed: 74', 'T_FC.2', 'T_FR.2', 'T_FL.2', 'T_FB.2', 'T_FT.2', 'T_FEmax.2', 'T_FCmax.2', 'T_max.2', 'Unnamed: 83', 'T_Mmax.2', 'Unnamed: 85', 'Unnamed: 86', 'T_CRmax.3', 'T_CLmax.3', 'T̅_CR.3', 'T̅_CL.3', 'Unnamed: 91', 'Unnamed: 92', 'Unnamed: 93', 'Unnamed: 94', 'Unnamed: 95', 'Unnamed: 96', 'Unnamed: 97', 'Unnamed: 98', 'Unnamed: 99', 'Unnamed: 100', 'T_CEmax.3', 'Unnamed: 102', 'T_FC.3', 'T_FR.3', 'T_FL.3', 'T_FB.3', 'T_FT.3', 'T_FEmax.3', 'T_FCmax.3', 'T_max.3', 'Unnamed: 111', 'T_Mmax.3', 'Unnamed: 113', 'Unnamed: 114', 'Unnamed: 115', 'Unnamed: 116', 'Unnamed: 117', 'Unnamed: 118', 'Unnamed: 119', 'Unnamed: 120', 'Unnamed: 121', 'Unnamed: 122', 'Unnamed: 123', 'Unnamed: 124']\n"
     ]
    }
   ],
   "source": [
    "#Análisis exploratorio de datos\n",
    "\n",
    "#Promedio de la variable Max1R13_\n",
    "\n",
    "\n",
    "\n",
    "#Tipos de datos: Variables numéricas y Variables categóricas\n",
    "variables_numericas = ['aveOralM', 'Age', 'T_atm', 'Humidity', 'Max1R13_']\n",
    "variables_categoricas = ['Gender', 'Ethnicity', 'Cosmetics']\n",
    "\n",
    "\n",
    "\n"
   ]
  }
 ],
 "metadata": {
  "kernelspec": {
   "display_name": "base",
   "language": "python",
   "name": "python3"
  },
  "language_info": {
   "codemirror_mode": {
    "name": "ipython",
    "version": 3
   },
   "file_extension": ".py",
   "mimetype": "text/x-python",
   "name": "python",
   "nbconvert_exporter": "python",
   "pygments_lexer": "ipython3",
   "version": "3.9.13"
  }
 },
 "nbformat": 4,
 "nbformat_minor": 5
}
