{
 "cells": [
  {
   "cell_type": "code",
   "execution_count": null,
   "id": "fe07bff0",
   "metadata": {},
   "outputs": [],
   "source": [
    "#INTEGRANTES: LUISA MARÍA HERNÁNDEZ QUINTERO, CAROLINA TABORDA VARGAS\n",
    "import pandas as pd\n",
    "import numpy as np\n",
    "from scipy import stats\n",
    "\n",
    "# Leer archivo Excel y usar la segunda fila como encabezado\n",
    "df = pd.read_excel(\"FLIR_groups1and2.xlsx\", header=1)\n",
    "\n",
    "# Verificar que es un DataFrame\n",
    "print(type(df))         \n",
    "\n",
    "print(df.head())\n"
   ]
  },
  {
   "cell_type": "code",
   "execution_count": null,
   "id": "16012cd8",
   "metadata": {},
   "outputs": [],
   "source": [
    "#Análisis exploratorio de datos\n",
    "\n",
    "#Promedio de la variable Max1R13_\n",
    "df = pd.read_excel(\"FLIR_groups1and2.xlsx\", header=2)\n",
    "columna=df[['Max1R13_1', 'Max1R13_2', 'Max1R13_3', 'Max1R13_4']].mean(axis=1)\n",
    "print(f\"El promedio de Max1R13_ es: \\n {columna}\")\n",
    "\n",
    "#Tipos de datos: Variables numéricas y Variables categóricas\n",
    "variables_numericas = ['aveOralM', 'Age', 'T_atm', 'Humidity', 'Max1R13_']\n",
    "variables_categoricas = ['Gender', 'Ethnicity', 'Cosmetics']\n"
   ]
  },
  {
   "cell_type": "code",
   "execution_count": null,
   "id": "1996817e",
   "metadata": {},
   "outputs": [],
   "source": [
    "#Construcción "
   ]
  }
 ],
 "metadata": {
  "kernelspec": {
   "display_name": "base",
   "language": "python",
   "name": "python3"
  },
  "language_info": {
   "codemirror_mode": {
    "name": "ipython",
    "version": 3
   },
   "file_extension": ".py",
   "mimetype": "text/x-python",
   "name": "python",
   "nbconvert_exporter": "python",
   "pygments_lexer": "ipython3",
   "version": "3.9.13"
  }
 },
 "nbformat": 4,
 "nbformat_minor": 5
}
