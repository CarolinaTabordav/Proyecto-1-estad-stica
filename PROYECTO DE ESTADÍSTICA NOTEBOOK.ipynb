{
 "cells": [
  {
   "cell_type": "code",
   "execution_count": null,
   "id": "fe07bff0",
   "metadata": {},
   "outputs": [],
   "source": [
    "#INTEGRANTES: LUISA MARÍA HERNÁNDEZ QUINTERO, CAROLINA TABORDA VARGAS\n",
    "import pandas as pd\n",
    "import numpy as np\n",
    "from scipy import stats\n",
    "import statistics\n",
    "import matplotlib.pyplot as plt\n",
    "# Leer archivo Excel y usar la segunda fila como encabezado\n",
    "df = pd.read_excel(\"FLIR_groups1and2.xlsx\", header=1)\n",
    "\n",
    "# Verificar que es un DataFrame\n",
    "         \n",
    "print(df.head())\n"
   ]
  },
  {
   "cell_type": "code",
   "execution_count": 2,
   "id": "16012cd8",
   "metadata": {},
   "outputs": [
    {
     "name": "stdout",
     "output_type": "stream",
     "text": [
      "El promedio de Max1R13_ es: \n",
      "       promedio_max\n",
      "0          35.0300\n",
      "1          34.5500\n",
      "2          35.6525\n",
      "3          35.2225\n",
      "4          35.5450\n",
      "...            ...\n",
      "1015       35.6425\n",
      "1016       35.9825\n",
      "1017       36.4075\n",
      "1018       35.8150\n",
      "1019       35.7075\n",
      "\n",
      "[1020 rows x 1 columns]\n"
     ]
    }
   ],
   "source": [
    "#Análisis exploratorio de datos\n",
    "\n",
    "#Promedio de la variable Max1R13_\n",
    "df = pd.read_excel(\"FLIR_groups1and2.xlsx\", header=2)\n",
    "columna=df[['Max1R13_1', 'Max1R13_2', 'Max1R13_3', 'Max1R13_4']].mean(axis=1)\n",
    "df_promedio = pd.DataFrame(columna, columns=['promedio_max'])\n",
    "print(f\"El promedio de Max1R13_ es: \\n {df_promedio}\")\n",
    "\n",
    "#Tipos de datos: Variables numéricas y Variables categóricas\n",
    "variables_numericas = ['aveOralM', 'Age', 'T_atm', 'Humidity', 'Max1R13_']\n",
    "variables_categoricas = ['Gender', 'Ethnicity', 'Cosmetics']\n",
    "\n"
   ]
  },
  {
   "cell_type": "code",
   "execution_count": 44,
   "id": "1996817e",
   "metadata": {},
   "outputs": [
    {
     "name": "stdout",
     "output_type": "stream",
     "text": [
      "           aveOralM  Gender    Age Ethnicity      T_atm    Humidity  \\\n",
      "Media     37.028382     NaN    NaN       NaN  24.115392   28.723039   \n",
      "Mediana   36.940000     NaN    NaN       NaN  24.000000   26.300000   \n",
      "Moda      36.890000  Female  18-20     White  24.000000   30.000000   \n",
      "SD         0.509502     NaN    NaN       NaN   1.336338   13.071627   \n",
      "MAD        0.332741     NaN    NaN       NaN   0.956887   10.844331   \n",
      "Varianza   0.259593     NaN    NaN       NaN   1.785798  170.867427   \n",
      "IQR        0.362500     NaN    NaN       NaN   1.300000   18.600000   \n",
      "CV         0.013760     NaN    NaN       NaN   0.055414    0.455092   \n",
      "CVM        0.008986     NaN    NaN       NaN   0.039680    0.377548   \n",
      "\n",
      "            Cosmetics  promedio_Max1R13_  \n",
      "Media             NaN          35.596533  \n",
      "Mediana           NaN          35.548750  \n",
      "Moda      No aplicado          35.677500  \n",
      "SD                NaN           0.574888  \n",
      "MAD               NaN           0.418881  \n",
      "Varianza          NaN           0.330496  \n",
      "IQR               NaN           0.625000  \n",
      "CV                NaN           0.016150  \n",
      "CVM               NaN           0.011767  \n"
     ]
    }
   ],
   "source": [
    "#Construcción de un DataFrame\n",
    "\n",
    "#Tipos de datos: Variables numéricas y Variables categóricas\n",
    "\n",
    "list_1=df['aveOralM'].tolist()\n",
    "list_2=df['Gender'].tolist()\n",
    "list_3=df['Age'].tolist()\n",
    "list_4=df['Ethnicity'].tolist()\n",
    "list_5=df['T_atm'].tolist()\n",
    "list_6=df['Humidity'].tolist()\n",
    "list_7 = df['Cosmetics'].map({1: \"Cosmético aplicado\", 0: \"No aplicado\"}).tolist()\n",
    "list_8=df_promedio['promedio_max'].tolist()\n",
    "\n",
    "def valores_estadisticos(valores):\n",
    "    # Convertir a numpy array por seguridad\n",
    "    valores = np.array(valores)\n",
    "\n",
    "    # Si no son numéricos (excepto moda), devolver NaN\n",
    "    if not np.issubdtype(valores.dtype, np.number):\n",
    "        media = mediana = sd = mad = varianza = iqr = cv = cvm = np.nan\n",
    "        try:\n",
    "            moda = statistics.mode(valores)\n",
    "        except statistics.StatisticsError:\n",
    "            moda = 'No única'\n",
    "    else:\n",
    "        media = np.mean(valores)\n",
    "        mediana = np.median(valores)\n",
    "        try:\n",
    "            moda = statistics.mode(valores)\n",
    "        except statistics.StatisticsError:\n",
    "            moda = 'No única'\n",
    "        sd = np.std(valores, ddof=1)\n",
    "        mad = np.mean(np.abs(valores - np.mean(valores)))\n",
    "        varianza = np.var(valores, ddof=1)\n",
    "        iqr = np.percentile(valores, 75) - np.percentile(valores, 25)\n",
    "        cv = sd / media if media != 0 else np.nan\n",
    "        cvm = mad / media if media != 0 else np.nan\n",
    "\n",
    "    return [media, mediana, moda, sd, mad, varianza, iqr, cv, cvm]\n",
    "      \n",
    "variables = {\n",
    "    'aveOralM': list_1,\n",
    "    'Gender': list_2,\n",
    "    'Age': list_3,\n",
    "    'Ethnicity': list_4,\n",
    "    'T_atm': list_5,\n",
    "    'Humidity': list_6,\n",
    "    'Cosmetics': list_7,\n",
    "    'promedio_Max1R13_': list_8,\n",
    "\n",
    "}\n",
    "\n",
    "# Calculamos los valores estadísticos por variable\n",
    "estadisticas = {nombre: valores_estadisticos(lista) for nombre, lista in variables.items()}\n",
    "\n",
    "# Convertimos a DataFrame con los nombres de filas\n",
    "estadisticas_df = pd.DataFrame(estadisticas, index=[\"Media\", \"Mediana\", \"Moda\", \"SD\", \"MAD\", \"Varianza\", \"IQR\", \"CV\", \"CVM\"])\n",
    "\n",
    "# Mostramos el resultado\n",
    "print(estadisticas_df)\n",
    "\n",
    "\n",
    "\n",
    "\n"
   ]
  },
  {
   "cell_type": "markdown",
   "id": "91a3773b",
   "metadata": {},
   "source": [
    "Calculo del coeficiente de variación de los datos "
   ]
  },
  {
   "cell_type": "code",
   "execution_count": 45,
   "id": "53249170",
   "metadata": {},
   "outputs": [
    {
     "name": "stdout",
     "output_type": "stream",
     "text": [
      "Razón SD/MAD:\n",
      "\n",
      "aveOralM             1.531226\n",
      "Gender                    NaN\n",
      "Age                       NaN\n",
      "Ethnicity                 NaN\n",
      "T_atm                1.396547\n",
      "Humidity             1.205388\n",
      "Cosmetics                 NaN\n",
      "promedio_Max1R13_    1.372437\n",
      "dtype: object\n",
      "Razón SD/Media:\n",
      "\n",
      "aveOralM              1.375978\n",
      "Gender                     NaN\n",
      "Age                        NaN\n",
      "Ethnicity                  NaN\n",
      "T_atm                  5.54143\n",
      "Humidity             45.509205\n",
      "Cosmetics                  NaN\n",
      "promedio_Max1R13_     1.615011\n",
      "dtype: object\n"
     ]
    }
   ],
   "source": [
    "razon_sd_mad = estadisticas_df.loc['SD'] /estadisticas_df.loc['MAD']\n",
    "razon_sd_media = estadisticas_df.loc['SD'] /estadisticas_df.loc['Media']*100\n",
    "print(\"Razón SD/MAD:\\n\")\n",
    "print(razon_sd_mad)\n",
    "print(\"Razón SD/Media:\\n\")\n",
    "print(razon_sd_media)\n"
   ]
  },
  {
   "cell_type": "code",
   "execution_count": null,
   "id": "3d231190",
   "metadata": {},
   "outputs": [],
   "source": [
    "\n",
    "def detectar_outliers(lista):\n",
    "    datos = np.array(lista)\n",
    "    \n",
    "    # Calcular Q1, Q3 e IQR\n",
    "    Q1 = np.percentile(datos, 25)\n",
    "    Q3 = np.percentile(datos, 75)\n",
    "    IQR = Q3 - Q1\n",
    "\n",
    "    # Límites inferior y superior\n",
    "    limite_inferior = Q1 - 1.5 * IQR\n",
    "    limite_superior = Q3 + 1.5 * IQR\n",
    "\n",
    "    # Detectar valores fuera del rango\n",
    "    outliers = datos[(datos < limite_inferior) | (datos > limite_superior)]\n",
    "\n",
    "    # Verificar si hay atípicos\n",
    "    hay_atipicos = len(outliers) > 0\n",
    "    cantidad = len(outliers)\n",
    "\n",
    "    return outliers, hay_atipicos, cantidad\n",
    "\n",
    "\n",
    "\n",
    "outliers_1, hay_atipicos_1, cantidad_1 = detectar_outliers(list_1)\n",
    "print(\"Outliers encontrados en aveOralM  :\", outliers_1)\n",
    "print(\"¿Hay datos atípicos en aveOralM ?\", hay_atipicos_1)\n",
    "print(\"Cantidad de datos atípicos en aveOralM :\", cantidad_1)\n",
    "\n",
    "outliers_5, hay_atipicos_5, cantidad_5 = detectar_outliers(list_5)\n",
    "print(\"Outliers encontrados en list_5:\", outliers_5)\n",
    "print(\"¿Hay datos atípicos en list_5?\", hay_atipicos_5)\n",
    "print(\"Cantidad de datos atípicos en list_5:\", cantidad_5)\n",
    "\n",
    "outliers_6, hay_atipicos_6, cantidad_6 = detectar_outliers(list_6)\n",
    "print(\"Outliers encontrados en list_6:\", outliers_6)\n",
    "print(\"¿Hay datos atípicos en list_6?\", hay_atipicos_6)\n",
    "print(\"Cantidad de datos atípicos en list_6:\", cantidad_6)\n",
    "\n",
    "outliers_8, hay_atipicos_8, cantidad_8 = detectar_outliers(list_8)\n",
    "print(\"Outliers encontrados en list_7:\", outliers_8)\n",
    "print(\"¿Hay datos atípicos en list_7?\", hay_atipicos_8)\n",
    "print(\"Cantidad de datos atípicos en list_7:\", cantidad_8)\n",
    "\n"
   ]
  },
  {
   "cell_type": "code",
   "execution_count": null,
   "id": "dc5f80b6",
   "metadata": {},
   "outputs": [
    {
     "ename": "KeyError",
     "evalue": "'aveOralM'",
     "output_type": "error",
     "traceback": [
      "\u001b[1;31m---------------------------------------------------------------------------\u001b[0m",
      "\u001b[1;31mKeyError\u001b[0m                                  Traceback (most recent call last)",
      "\u001b[1;32mc:\\Users\\carol\\anaconda3\\lib\\site-packages\\pandas\\core\\indexes\\base.py\u001b[0m in \u001b[0;36mget_loc\u001b[1;34m(self, key, method, tolerance)\u001b[0m\n\u001b[0;32m   3628\u001b[0m             \u001b[1;32mtry\u001b[0m\u001b[1;33m:\u001b[0m\u001b[1;33m\u001b[0m\u001b[1;33m\u001b[0m\u001b[0m\n\u001b[1;32m-> 3629\u001b[1;33m                 \u001b[1;32mreturn\u001b[0m \u001b[0mself\u001b[0m\u001b[1;33m.\u001b[0m\u001b[0m_engine\u001b[0m\u001b[1;33m.\u001b[0m\u001b[0mget_loc\u001b[0m\u001b[1;33m(\u001b[0m\u001b[0mcasted_key\u001b[0m\u001b[1;33m)\u001b[0m\u001b[1;33m\u001b[0m\u001b[1;33m\u001b[0m\u001b[0m\n\u001b[0m\u001b[0;32m   3630\u001b[0m             \u001b[1;32mexcept\u001b[0m \u001b[0mKeyError\u001b[0m \u001b[1;32mas\u001b[0m \u001b[0merr\u001b[0m\u001b[1;33m:\u001b[0m\u001b[1;33m\u001b[0m\u001b[1;33m\u001b[0m\u001b[0m\n",
      "\u001b[1;32mc:\\Users\\carol\\anaconda3\\lib\\site-packages\\pandas\\_libs\\index.pyx\u001b[0m in \u001b[0;36mpandas._libs.index.IndexEngine.get_loc\u001b[1;34m()\u001b[0m\n",
      "\u001b[1;32mc:\\Users\\carol\\anaconda3\\lib\\site-packages\\pandas\\_libs\\index.pyx\u001b[0m in \u001b[0;36mpandas._libs.index.IndexEngine.get_loc\u001b[1;34m()\u001b[0m\n",
      "\u001b[1;32mpandas\\_libs\\hashtable_class_helper.pxi\u001b[0m in \u001b[0;36mpandas._libs.hashtable.PyObjectHashTable.get_item\u001b[1;34m()\u001b[0m\n",
      "\u001b[1;32mpandas\\_libs\\hashtable_class_helper.pxi\u001b[0m in \u001b[0;36mpandas._libs.hashtable.PyObjectHashTable.get_item\u001b[1;34m()\u001b[0m\n",
      "\u001b[1;31mKeyError\u001b[0m: 'aveOralM'",
      "\nThe above exception was the direct cause of the following exception:\n",
      "\u001b[1;31mKeyError\u001b[0m                                  Traceback (most recent call last)",
      "\u001b[1;32m~\\AppData\\Local\\Temp\\ipykernel_46016\\505054010.py\u001b[0m in \u001b[0;36m<module>\u001b[1;34m\u001b[0m\n\u001b[0;32m      2\u001b[0m \u001b[0mfig\u001b[0m\u001b[1;33m,\u001b[0m \u001b[0max\u001b[0m \u001b[1;33m=\u001b[0m \u001b[0mplt\u001b[0m\u001b[1;33m.\u001b[0m\u001b[0msubplots\u001b[0m\u001b[1;33m(\u001b[0m\u001b[1;36m4\u001b[0m\u001b[1;33m,\u001b[0m \u001b[1;36m1\u001b[0m\u001b[1;33m,\u001b[0m \u001b[0mfigsize\u001b[0m\u001b[1;33m=\u001b[0m\u001b[1;33m(\u001b[0m\u001b[1;36m10\u001b[0m\u001b[1;33m,\u001b[0m \u001b[1;36m12\u001b[0m\u001b[1;33m)\u001b[0m\u001b[1;33m)\u001b[0m\u001b[1;33m\u001b[0m\u001b[1;33m\u001b[0m\u001b[0m\n\u001b[0;32m      3\u001b[0m \u001b[1;33m\u001b[0m\u001b[0m\n\u001b[1;32m----> 4\u001b[1;33m \u001b[0max\u001b[0m\u001b[1;33m[\u001b[0m\u001b[1;36m0\u001b[0m\u001b[1;33m]\u001b[0m\u001b[1;33m.\u001b[0m\u001b[0mhist\u001b[0m\u001b[1;33m(\u001b[0m\u001b[0mdf\u001b[0m\u001b[1;33m[\u001b[0m\u001b[1;34m'aveOralM'\u001b[0m\u001b[1;33m]\u001b[0m\u001b[1;33m,\u001b[0m \u001b[0mbins\u001b[0m\u001b[1;33m=\u001b[0m\u001b[1;36m10\u001b[0m\u001b[1;33m,\u001b[0m \u001b[0mcolor\u001b[0m\u001b[1;33m=\u001b[0m\u001b[1;34m'skyblue'\u001b[0m\u001b[1;33m,\u001b[0m \u001b[0medgecolor\u001b[0m\u001b[1;33m=\u001b[0m\u001b[1;34m'black'\u001b[0m\u001b[1;33m)\u001b[0m\u001b[1;33m\u001b[0m\u001b[1;33m\u001b[0m\u001b[0m\n\u001b[0m\u001b[0;32m      5\u001b[0m \u001b[0max\u001b[0m\u001b[1;33m[\u001b[0m\u001b[1;36m0\u001b[0m\u001b[1;33m]\u001b[0m\u001b[1;33m.\u001b[0m\u001b[0mset_xlabel\u001b[0m\u001b[1;33m(\u001b[0m\u001b[1;34m\"aveOralM\"\u001b[0m\u001b[1;33m)\u001b[0m\u001b[1;33m\u001b[0m\u001b[1;33m\u001b[0m\u001b[0m\n\u001b[0;32m      6\u001b[0m \u001b[0max\u001b[0m\u001b[1;33m[\u001b[0m\u001b[1;36m0\u001b[0m\u001b[1;33m]\u001b[0m\u001b[1;33m.\u001b[0m\u001b[0mset_ylabel\u001b[0m\u001b[1;33m(\u001b[0m\u001b[1;34m\"Frecuencia\"\u001b[0m\u001b[1;33m)\u001b[0m\u001b[1;33m\u001b[0m\u001b[1;33m\u001b[0m\u001b[0m\n",
      "\u001b[1;32mc:\\Users\\carol\\anaconda3\\lib\\site-packages\\pandas\\core\\frame.py\u001b[0m in \u001b[0;36m__getitem__\u001b[1;34m(self, key)\u001b[0m\n\u001b[0;32m   3503\u001b[0m             \u001b[1;32mif\u001b[0m \u001b[0mself\u001b[0m\u001b[1;33m.\u001b[0m\u001b[0mcolumns\u001b[0m\u001b[1;33m.\u001b[0m\u001b[0mnlevels\u001b[0m \u001b[1;33m>\u001b[0m \u001b[1;36m1\u001b[0m\u001b[1;33m:\u001b[0m\u001b[1;33m\u001b[0m\u001b[1;33m\u001b[0m\u001b[0m\n\u001b[0;32m   3504\u001b[0m                 \u001b[1;32mreturn\u001b[0m \u001b[0mself\u001b[0m\u001b[1;33m.\u001b[0m\u001b[0m_getitem_multilevel\u001b[0m\u001b[1;33m(\u001b[0m\u001b[0mkey\u001b[0m\u001b[1;33m)\u001b[0m\u001b[1;33m\u001b[0m\u001b[1;33m\u001b[0m\u001b[0m\n\u001b[1;32m-> 3505\u001b[1;33m             \u001b[0mindexer\u001b[0m \u001b[1;33m=\u001b[0m \u001b[0mself\u001b[0m\u001b[1;33m.\u001b[0m\u001b[0mcolumns\u001b[0m\u001b[1;33m.\u001b[0m\u001b[0mget_loc\u001b[0m\u001b[1;33m(\u001b[0m\u001b[0mkey\u001b[0m\u001b[1;33m)\u001b[0m\u001b[1;33m\u001b[0m\u001b[1;33m\u001b[0m\u001b[0m\n\u001b[0m\u001b[0;32m   3506\u001b[0m             \u001b[1;32mif\u001b[0m \u001b[0mis_integer\u001b[0m\u001b[1;33m(\u001b[0m\u001b[0mindexer\u001b[0m\u001b[1;33m)\u001b[0m\u001b[1;33m:\u001b[0m\u001b[1;33m\u001b[0m\u001b[1;33m\u001b[0m\u001b[0m\n\u001b[0;32m   3507\u001b[0m                 \u001b[0mindexer\u001b[0m \u001b[1;33m=\u001b[0m \u001b[1;33m[\u001b[0m\u001b[0mindexer\u001b[0m\u001b[1;33m]\u001b[0m\u001b[1;33m\u001b[0m\u001b[1;33m\u001b[0m\u001b[0m\n",
      "\u001b[1;32mc:\\Users\\carol\\anaconda3\\lib\\site-packages\\pandas\\core\\indexes\\base.py\u001b[0m in \u001b[0;36mget_loc\u001b[1;34m(self, key, method, tolerance)\u001b[0m\n\u001b[0;32m   3629\u001b[0m                 \u001b[1;32mreturn\u001b[0m \u001b[0mself\u001b[0m\u001b[1;33m.\u001b[0m\u001b[0m_engine\u001b[0m\u001b[1;33m.\u001b[0m\u001b[0mget_loc\u001b[0m\u001b[1;33m(\u001b[0m\u001b[0mcasted_key\u001b[0m\u001b[1;33m)\u001b[0m\u001b[1;33m\u001b[0m\u001b[1;33m\u001b[0m\u001b[0m\n\u001b[0;32m   3630\u001b[0m             \u001b[1;32mexcept\u001b[0m \u001b[0mKeyError\u001b[0m \u001b[1;32mas\u001b[0m \u001b[0merr\u001b[0m\u001b[1;33m:\u001b[0m\u001b[1;33m\u001b[0m\u001b[1;33m\u001b[0m\u001b[0m\n\u001b[1;32m-> 3631\u001b[1;33m                 \u001b[1;32mraise\u001b[0m \u001b[0mKeyError\u001b[0m\u001b[1;33m(\u001b[0m\u001b[0mkey\u001b[0m\u001b[1;33m)\u001b[0m \u001b[1;32mfrom\u001b[0m \u001b[0merr\u001b[0m\u001b[1;33m\u001b[0m\u001b[1;33m\u001b[0m\u001b[0m\n\u001b[0m\u001b[0;32m   3632\u001b[0m             \u001b[1;32mexcept\u001b[0m \u001b[0mTypeError\u001b[0m\u001b[1;33m:\u001b[0m\u001b[1;33m\u001b[0m\u001b[1;33m\u001b[0m\u001b[0m\n\u001b[0;32m   3633\u001b[0m                 \u001b[1;31m# If we have a listlike key, _check_indexing_error will raise\u001b[0m\u001b[1;33m\u001b[0m\u001b[1;33m\u001b[0m\u001b[0m\n",
      "\u001b[1;31mKeyError\u001b[0m: 'aveOralM'"
     ]
    },
    {
     "data": {
      "image/png": "[encoded data removed]",
      "text/plain": [
       "<Figure size 1000x1200 with 4 Axes>"
      ]
     },
     "metadata": {},
     "output_type": "display_data"
    }
   ],
   "source": [
    "#Histogramas\n",
    "fig, ax = plt.subplots(4, 1, figsize=(10, 12))\n",
    "\n",
    "ax[0].hist(df['aveOralM'], bins=10, color='skyblue', edgecolor='black')\n",
    "ax[0].set_xlabel(\"aveOralM\")\n",
    "ax[0].set_ylabel(\"Frecuencia\")\n",
    "\n",
    "ax[1].hist(df['T_atm'], bins=10, color='lightgreen', edgecolor='black')\n",
    "ax[1].set_xlabel(\"T_atm (°C)\")\n",
    "ax[1].set_ylabel(\"Frecuencia\")\n",
    "\n",
    "ax[2].hist(df['Humidity'], bins=10, color='salmon', edgecolor='black')\n",
    "ax[2].set_xlabel(\"Humidity\")\n",
    "ax[2].set_ylabel(\"Frecuencia\")\n",
    "\n",
    "ax[3].hist(df['Promedio_Max1R13_'], bins=10, color='plum', edgecolor='black')\n",
    "ax[3].set_xlabel(\"Promedio_Max1R13_\")\n",
    "ax[3].set_ylabel(\"Frecuencia\")\n",
    "\n",
    "plt.tight_layout()\n",
    "plt.show()"
   ]
  }
 ],
 "metadata": {
  "kernelspec": {
   "display_name": "base",
   "language": "python",
   "name": "python3"
  },
  "language_info": {
   "codemirror_mode": {
    "name": "ipython",
    "version": 3
   },
   "file_extension": ".py",
   "mimetype": "text/x-python",
   "name": "python",
   "nbconvert_exporter": "python",
   "pygments_lexer": "ipython3",
   "version": "3.9.13"
  }
 },
 "nbformat": 4,
 "nbformat_minor": 5
}
