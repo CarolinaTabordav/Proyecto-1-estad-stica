{
 "cells": [
  {
   "cell_type": "code",
   "execution_count": 6,
   "id": "fe07bff0",
   "metadata": {},
   "outputs": [
    {
     "name": "stdout",
     "output_type": "stream",
     "text": [
      "<class 'pandas.core.frame.DataFrame'>\n",
      "  Unnamed: 0  Unnamed: 1   Round 1: Unnamed: 3 Unnamed: 4   Unnamed: 5  \\\n",
      "0        NaN         NaN        NaN    T_CRmax    T_CLmax        T̅_CR   \n",
      "1  SubjectID         NaN  T_offset1  Max1R13_1  Max1L13_1  aveAllR13_1   \n",
      "2   161117-1         NaN       0.58      34.98      35.36        34.44   \n",
      "3   161117-2         NaN       0.83      34.71      34.51        34.46   \n",
      "4   161117-3         NaN       0.85      35.70      35.44        35.00   \n",
      "\n",
      "    Unnamed: 6 Unnamed: 7 Unnamed: 8 Unnamed: 9  ... Unnamed: 115  \\\n",
      "0        T̅_CL        NaN        NaN        NaN  ...          NaN   \n",
      "1  aveAllL13_1      T_RC1  T_RC_Dry1  T_RC_Wet1  ...     aveOralM   \n",
      "2        34.85      34.91      34.91      34.60  ...        36.59   \n",
      "3        34.24      34.68      34.68      34.44  ...        37.19   \n",
      "4        34.78      35.67      35.67      35.46  ...        37.34   \n",
      "\n",
      "  Unnamed: 116 Unnamed: 117               Unnamed: 118 Unnamed: 119  \\\n",
      "0          NaN          NaN                        NaN          NaN   \n",
      "1       Gender          Age                  Ethnicity        T_atm   \n",
      "2         Male        41-50                      White           24   \n",
      "3       Female        31-40  Black or African-American           24   \n",
      "4       Female        21-30                      White           24   \n",
      "\n",
      "  Unnamed: 120 Unnamed: 121 Unnamed: 122 Unnamed: 123         Unnamed: 124  \n",
      "0          NaN          NaN          NaN          NaN                  NaN  \n",
      "1     Humidity     Distance    Cosmetics         Time                 Date  \n",
      "2           28          0.8          NaN     12:43:46  2017-11-16 00:00:00  \n",
      "3           26          0.8          NaN     15:22:48  2017-11-16 00:00:00  \n",
      "4           26          0.8          NaN     15:52:56  2017-11-16 00:00:00  \n",
      "\n",
      "[5 rows x 125 columns]\n"
     ]
    }
   ],
   "source": [
    "#INTEGRANTES: LUISA MARÍA HERNÁNDEZ QUINTERO, CAROLINA TABORDA VARGAS\n",
    "import pandas as pd\n",
    "import numpy as np\n",
    "\n",
    "# Leer archivo Excel y usar la segunda fila como encabezado\n",
    "df = pd.read_excel(\"FLIR_groups1and2.xlsx\")\n",
    "\n",
    "# Verificar que es un DataFrame\n",
    "print(type(df))         \n",
    "\n",
    "print(df.head())\n",
    "\n",
    "\n"
   ]
  },
  {
   "cell_type": "code",
   "execution_count": null,
   "id": "16012cd8",
   "metadata": {},
   "outputs": [],
   "source": [
    "#Análisis exploratorio de datos\n",
    "\n",
    "#Promedio de la variable Max1R13_\n",
    "df = pd.read_excel(\"FLIR_groups1and2.xlsx\", header=[0, 1])\n",
    "r= df[('T_CRmax', 'Max1R13_1')]\n",
    "print(r)\n",
    "\n",
    "\n",
    "#Tipos de datos: Variables numéricas y Variables categóricas\n",
    "variables_numericas = ['aveOralM', 'Age', 'T_atm', 'Humidity', 'Max1R13_']\n",
    "variables_categoricas = ['Gender', 'Ethnicity', 'Cosmetics']\n",
    "\n",
    "\n",
    "\n"
   ]
  }
 ],
 "metadata": {
  "kernelspec": {
   "display_name": "base",
   "language": "python",
   "name": "python3"
  },
  "language_info": {
   "codemirror_mode": {
    "name": "ipython",
    "version": 3
   },
   "file_extension": ".py",
   "mimetype": "text/x-python",
   "name": "python",
   "nbconvert_exporter": "python",
   "pygments_lexer": "ipython3",
   "version": "3.9.13"
  }
 },
 "nbformat": 4,
 "nbformat_minor": 5
}
