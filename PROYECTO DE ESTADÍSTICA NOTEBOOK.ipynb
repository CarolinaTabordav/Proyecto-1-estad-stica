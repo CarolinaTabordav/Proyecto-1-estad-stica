{
 "cells": [
  {
   "cell_type": "code",
   "execution_count": 9,
   "id": "fe07bff0",
   "metadata": {},
   "outputs": [
    {
     "name": "stdout",
     "output_type": "stream",
     "text": [
      "<class 'pandas.core.frame.DataFrame'>\n",
      "  Unnamed: 0  Unnamed: 1 Unnamed: 2    T_CRmax    T_CLmax        T̅_CR  \\\n",
      "0  SubjectID         NaN  T_offset1  Max1R13_1  Max1L13_1  aveAllR13_1   \n",
      "1   161117-1         NaN       0.58      34.98      35.36        34.44   \n",
      "2   161117-2         NaN       0.83      34.71      34.51        34.46   \n",
      "3   161117-3         NaN       0.85      35.70      35.44        35.00   \n",
      "4   161117-4         NaN       0.90      35.17      35.50        34.25   \n",
      "\n",
      "         T̅_CL Unnamed: 7 Unnamed: 8 Unnamed: 9  ... Unnamed: 115  \\\n",
      "0  aveAllL13_1      T_RC1  T_RC_Dry1  T_RC_Wet1  ...     aveOralM   \n",
      "1        34.85      34.91      34.91      34.60  ...        36.59   \n",
      "2        34.24      34.68      34.68      34.44  ...        37.19   \n",
      "3        34.78      35.67      35.67      35.46  ...        37.34   \n",
      "4        35.00      35.14      35.14      35.08  ...        37.09   \n",
      "\n",
      "  Unnamed: 116 Unnamed: 117               Unnamed: 118 Unnamed: 119  \\\n",
      "0       Gender          Age                  Ethnicity        T_atm   \n",
      "1         Male        41-50                      White           24   \n",
      "2       Female        31-40  Black or African-American           24   \n",
      "3       Female        21-30                      White           24   \n",
      "4       Female        21-30  Black or African-American           24   \n",
      "\n",
      "  Unnamed: 120 Unnamed: 121 Unnamed: 122 Unnamed: 123         Unnamed: 124  \n",
      "0     Humidity     Distance    Cosmetics         Time                 Date  \n",
      "1           28          0.8          NaN     12:43:46  2017-11-16 00:00:00  \n",
      "2           26          0.8          NaN     15:22:48  2017-11-16 00:00:00  \n",
      "3           26          0.8          NaN     15:52:56  2017-11-16 00:00:00  \n",
      "4           27          0.8          NaN     16:07:53  2017-11-16 00:00:00  \n",
      "\n",
      "[5 rows x 125 columns]\n"
     ]
    }
   ],
   "source": [
    "#INTEGRANTES: LUISA MARÍA HERNÁNDEZ QUINTERO, CAROLINA TABORDA VARGAS\n",
    "import pandas as pd\n",
    "import numpy as np\n",
    "\n",
    "# Leer archivo Excel y usar la segunda fila como encabezado\n",
    "df = pd.read_excel(\"FLIR_groups1and2.xlsx\", header=1)\n",
    "\n",
    "# Verificar que es un DataFrame\n",
    "print(type(df))         \n",
    "\n",
    "print(df.head())\n",
    "\n",
    "\n"
   ]
  },
  {
   "cell_type": "code",
   "execution_count": null,
   "id": "16012cd8",
   "metadata": {},
   "outputs": [
    {
     "name": "stdout",
     "output_type": "stream",
     "text": [
      "Resultado del análisis:\n",
      " El promedio de Max1R13_ es: \n",
      " 0       35.0300\n",
      "1       34.5500\n",
      "2       35.6525\n",
      "3       35.2225\n",
      "4       35.5450\n",
      "         ...   \n",
      "1015    35.6425\n",
      "1016    35.9825\n",
      "1017    36.4075\n",
      "1018    35.8150\n",
      "1019    35.7075\n",
      "Length: 1020, dtype: float64\n"
     ]
    }
   ],
   "source": [
    "#Análisis exploratorio de datos\n",
    "\n",
    "#Promedio de la variable Max1R13_\n",
    "df = pd.read_excel(\"FLIR_groups1and2.xlsx\", header=2)\n",
    "columna=df[['Max1R13_1', 'Max1R13_2', 'Max1R13_3', 'Max1R13_4']].mean(axis=1)\n",
    "print(f\"El promedio de Max1R13_ es: \\n {columna}\")\n",
    "\n",
    "\n",
    "#Tipos de datos: Variables numéricas y Variables categóricas\n",
    "variables_numericas = ['aveOralM', 'Age', 'T_atm', 'Humidity', 'Max1R13_']\n",
    "variables_categoricas = ['Gender', 'Ethnicity', 'Cosmetics']\n",
    "\n",
    "\n",
    "\n"
   ]
  }
 ],
 "metadata": {
  "kernelspec": {
   "display_name": "base",
   "language": "python",
   "name": "python3"
  },
  "language_info": {
   "codemirror_mode": {
    "name": "ipython",
    "version": 3
   },
   "file_extension": ".py",
   "mimetype": "text/x-python",
   "name": "python",
   "nbconvert_exporter": "python",
   "pygments_lexer": "ipython3",
   "version": "3.9.13"
  }
 },
 "nbformat": 4,
 "nbformat_minor": 5
}
