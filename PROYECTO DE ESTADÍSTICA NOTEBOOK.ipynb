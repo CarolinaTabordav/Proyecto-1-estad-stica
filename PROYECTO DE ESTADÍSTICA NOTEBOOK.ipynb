{
 "cells": [
  {
   "cell_type": "code",
   "execution_count": null,
   "id": "fe07bff0",
   "metadata": {},
   "outputs": [],
   "source": [
    "#INTEGRANTES: LUISA MARÍA HERNÁNDEZ QUINTERO, CAROLINA TABORDA VARGAS\n",
    "import pandas as pd\n",
    "import numpy as np\n",
    "\n",
    "# Leer archivo Excel y usar la segunda fila como encabezado\n",
    "df = pd.read_excel(\"FLIR_groups1and2.xlsx\", header=1)\n",
    "\n",
    "# Verificar que es un DataFrame\n",
    "print(type(df))         \n",
    "\n",
    "print(df.head())\n",
    "\n",
    "\n"
   ]
  },
  {
   "cell_type": "code",
   "execution_count": null,
   "id": "16012cd8",
   "metadata": {},
   "outputs": [],
   "source": [
    "#Análisis exploratorio de datos\n",
    "\n",
    "#Promedio de la variable Max1R13_\n",
    "\n",
    "\n",
    "\n",
    "#Tipos de datos: Variables numéricas y Variables categóricas\n",
    "variables_numericas = ['aveOralM', 'Age', 'T_atm', 'Humidity', 'Max1R13_']\n",
    "variables_categoricas = ['Gender', 'Ethnicity', 'Cosmetics']\n",
    "\n",
    "\n",
    "\n"
   ]
  }
 ],
 "metadata": {
  "kernelspec": {
   "display_name": "base",
   "language": "python",
   "name": "python3"
  },
  "language_info": {
   "codemirror_mode": {
    "name": "ipython",
    "version": 3
   },
   "file_extension": ".py",
   "mimetype": "text/x-python",
   "name": "python",
   "nbconvert_exporter": "python",
   "pygments_lexer": "ipython3",
   "version": "3.9.13"
  }
 },
 "nbformat": 4,
 "nbformat_minor": 5
}
